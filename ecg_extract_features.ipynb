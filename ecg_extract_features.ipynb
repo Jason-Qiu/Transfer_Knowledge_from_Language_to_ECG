{
 "cells": [
  {
   "cell_type": "code",
   "execution_count": 1,
   "metadata": {},
   "outputs": [
    {
     "name": "stderr",
     "output_type": "stream",
     "text": [
      "/home/william/Desktop/ECG_preprocessing/.env/lib/python3.8/site-packages/tqdm/auto.py:22: TqdmWarning: IProgress not found. Please update jupyter and ipywidgets. See https://ipywidgets.readthedocs.io/en/stable/user_install.html\n",
      "  from .autonotebook import tqdm as notebook_tqdm\n"
     ]
    }
   ],
   "source": [
    "import numpy as np\n",
    "import matplotlib.pyplot as plt\n",
    "import torch\n",
    "from torch import nn\n",
    "import torch.nn.functional as Fun\n",
    "from scipy import signal\n",
    "from scipy import signal"
   ]
  },
  {
   "cell_type": "code",
   "execution_count": 2,
   "metadata": {},
   "outputs": [],
   "source": [
    "import numpy as np\n",
    "import pandas as pd\n",
    "import wfdb\n",
    "# import ast\n",
    "from sklearn.preprocessing import StandardScaler, MultiLabelBinarizer\n",
    "import os\n",
    "\n",
    "from sklearn.utils import shuffle\n",
    "import math\n",
    "# import tensorflow as tf\n",
    "import matplotlib.pyplot as plt\n",
    "from sklearn.preprocessing import StandardScaler,normalize, MinMaxScaler\n",
    "\n",
    "\n",
    "import os\n",
    "import wandb\n",
    "from sklearn.metrics import roc_auc_score, classification_report, accuracy_score\n",
    "import warnings"
   ]
  },
  {
   "cell_type": "code",
   "execution_count": 3,
   "metadata": {},
   "outputs": [
    {
     "name": "stdout",
     "output_type": "stream",
     "text": [
      "21396\n"
     ]
    }
   ],
   "source": [
    "\n",
    "ttt = np.load('y_report_all.npy', allow_pickle = True)\n",
    "print(len(ttt))"
   ]
  },
  {
   "cell_type": "code",
   "execution_count": 4,
   "metadata": {},
   "outputs": [
    {
     "name": "stdout",
     "output_type": "stream",
     "text": [
      "X_test: (21396, 1000, 12)\n"
     ]
    }
   ],
   "source": [
    "data_filepath = \"./ECG_data/\"\n",
    "\n",
    "X_test = np.load('X_all.npy')\n",
    "y_test = np.load('y_all.npy', allow_pickle=True)\n",
    "y_report = np.load('y_report_all.npy', allow_pickle = True)\n",
    "\n",
    "print('X_test:', X_test.shape)"
   ]
  },
  {
   "cell_type": "code",
   "execution_count": 5,
   "metadata": {},
   "outputs": [],
   "source": [
    "# reshape y_train, y_test\n",
    "y_test = y_test.reshape(len(y_test), 1)\n",
    "y_report = y_report.reshape(len(y_report), 1)"
   ]
  },
  {
   "cell_type": "code",
   "execution_count": 28,
   "metadata": {},
   "outputs": [],
   "source": [
    "# def apply_scaler(X, scaler):\n",
    "#     X_tmp = []\n",
    "#     for x in X:\n",
    "#         x_shape = x.shape\n",
    "#         X_tmp.append(scaler.transform(x.flatten()[:,np.newaxis]).reshape(x_shape))\n",
    "#     X_tmp = np.array(X_tmp)\n",
    "#     return X_tmp\n",
    "\n",
    "\n",
    "# scaler = StandardScaler()\n",
    "\n",
    "# scaler.fit(np.vstack(X_test).flatten()[:,np.newaxis].astype(float))\n",
    "\n",
    "'''\n",
    "X_train_scale = apply_scaler(X_train, scaler)\n",
    "X_test_scale = apply_scaler(X_test, scaler)\n",
    "X_val_scale = apply_scaler(X_val, scaler)\n",
    "\n",
    "del X_train, X_test, X_val\n",
    "\n",
    "'''\n",
    "\n",
    "#X_train_scale = apply_scaler(X_train, scaler)\n",
    "# X_test_scale = apply_scaler(X_test, scaler)"
   ]
  },
  {
   "cell_type": "code",
   "execution_count": 7,
   "metadata": {},
   "outputs": [],
   "source": [
    "#del X_train, X_test"
   ]
  },
  {
   "cell_type": "code",
   "execution_count": 6,
   "metadata": {},
   "outputs": [
    {
     "ename": "NameError",
     "evalue": "name 'X_test_scale' is not defined",
     "output_type": "error",
     "traceback": [
      "\u001b[0;31m---------------------------------------------------------------------------\u001b[0m",
      "\u001b[0;31mNameError\u001b[0m                                 Traceback (most recent call last)",
      "Cell \u001b[0;32mIn [6], line 2\u001b[0m\n\u001b[1;32m      1\u001b[0m \u001b[38;5;66;03m#X_train=X_train_scale\u001b[39;00m\n\u001b[0;32m----> 2\u001b[0m X_test\u001b[38;5;241m=\u001b[39m\u001b[43mX_test_scale\u001b[49m\n",
      "\u001b[0;31mNameError\u001b[0m: name 'X_test_scale' is not defined"
     ]
    }
   ],
   "source": [
    "#X_train=X_train_scale\n",
    "X_test=X_test_scale "
   ]
  },
  {
   "cell_type": "code",
   "execution_count": 9,
   "metadata": {},
   "outputs": [],
   "source": [
    "#def shuffle_train_test(X_train, y_train, X_test, y_test):\n",
    "#    shuffled_indices_x = np.random.permutation(len(y_train))\n",
    "#    shuffled_indices_y = np.random.permutation(len(y_test))\n",
    "\n",
    "#    return X_train[shuffled_indices_x], y_train[shuffled_indices_x], X_test[shuffled_indices_y], y_test[shuffled_indices_y]\n",
    "\n",
    "#X_train, y_train, X_test, y_test = shuffle_train_test(X_train, y_train, X_test, y_test)"
   ]
  },
  {
   "cell_type": "code",
   "execution_count": 7,
   "metadata": {},
   "outputs": [],
   "source": [
    "num2class = np.array(['NORM', 'MI', 'STTC', 'CD', 'HYP'])\n",
    "    \n",
    "for index in range(len(y_test)):\n",
    "    y_test[index] = np.where(num2class == y_test[index][0][0])[0]\n",
    "    \n",
    "y_test = y_test.astype('uint8')"
   ]
  },
  {
   "cell_type": "code",
   "execution_count": 16,
   "metadata": {},
   "outputs": [],
   "source": [
    "##count the number of each class"
   ]
  },
  {
   "cell_type": "code",
   "execution_count": null,
   "metadata": {},
   "outputs": [],
   "source": []
  },
  {
   "cell_type": "code",
   "execution_count": null,
   "metadata": {},
   "outputs": [],
   "source": []
  },
  {
   "cell_type": "code",
   "execution_count": 8,
   "metadata": {},
   "outputs": [],
   "source": [
    "sampling_rate = 100\n",
    "\n",
    "def checkR(ecg):\n",
    "    max_val = np.max(ecg)\n",
    "    min_val = np.min(ecg)\n",
    "    threshold_val = (max_val-min_val)*0.7 + min_val\n",
    "    index = []\n",
    "    for i in range(1, len(ecg)-2):\n",
    "        if ecg[i] == np.max(ecg[i-1:i+2]) and ecg[i] > threshold_val:\n",
    "            if index != []:\n",
    "                if i-index[-1] <= 60.0/60.0*sampling_rate and i-index[-1] >= 60.0/160.0*sampling_rate:\n",
    "                    index.append(i)\n",
    "            else:\n",
    "                index.append(i)\n",
    "    return np.array(index)"
   ]
  },
  {
   "cell_type": "code",
   "execution_count": 9,
   "metadata": {},
   "outputs": [],
   "source": [
    "\n",
    "def splitByR(ecg): #\n",
    "    index = checkR(ecg)\n",
    "    ecg_tmp=None\n",
    "    #ecg_rhythm = None\n",
    "    ecg_rhythm = []\n",
    "    for i in range(len(index)):\n",
    "        #if index[i]>200 and index[i]<1000-350:\n",
    "        if index[i]>35 and index[i]<1000-65:\n",
    "            #ecg_rhythm = ecg[index[i]-150:index[i]+350]\n",
    "            ecg_tmp = ecg[index[i]-35:index[i]+65]\n",
    "            ecg_rhythm.append(ecg_tmp)\n",
    "            continue\n",
    "    ecg_rhythm=np.array(ecg_rhythm)\n",
    "    return ecg_rhythm"
   ]
  },
  {
   "cell_type": "code",
   "execution_count": null,
   "metadata": {},
   "outputs": [],
   "source": []
  },
  {
   "cell_type": "code",
   "execution_count": 10,
   "metadata": {},
   "outputs": [
    {
     "data": {
      "text/plain": [
       "21396"
      ]
     },
     "execution_count": 10,
     "metadata": {},
     "output_type": "execute_result"
    }
   ],
   "source": [
    "len(X_test)"
   ]
  },
  {
   "cell_type": "code",
   "execution_count": 11,
   "metadata": {},
   "outputs": [],
   "source": [
    "X_test_pieces=[]\n",
    "y_test_pieces=[]\n",
    "y_report_pieces = []\n",
    "\n",
    "for i in range (0, len(X_test)):\n",
    "    label_tmp=y_test[i]\n",
    "    report_tmp = y_report[i]\n",
    "    ecg_tmp=None\n",
    "    tmp=X_test[i] \n",
    "    temp=X_test[i][:,1] \n",
    "    temp_2=temp.tolist()\n",
    "    index = checkR(temp_2)\n",
    "    for j in range (0, len(index)):\n",
    "        index=np.array(index)\n",
    "        tmp_index= index[j]\n",
    "        if tmp_index>35 and tmp_index<1000-65:\n",
    "            all_lead_tmp=[]\n",
    "            for k in range (0,12):\n",
    "                current_lead = tmp[:,k]\n",
    "                ecg_tmp = current_lead[tmp_index-35:tmp_index+65]\n",
    "                all_lead_tmp.append(ecg_tmp)\n",
    "                    \n",
    "            X_test_pieces.append(all_lead_tmp)\n",
    "            y_test_pieces.append(label_tmp)\n",
    "            y_report_pieces.append(report_tmp)\n"
   ]
  },
  {
   "cell_type": "code",
   "execution_count": 12,
   "metadata": {},
   "outputs": [],
   "source": [
    "X_test_pieces=np.array(X_test_pieces)\n",
    "y_test_pieces=np.array(y_test_pieces)\n",
    "y_report_pieces = np.array(y_report_pieces)"
   ]
  },
  {
   "cell_type": "code",
   "execution_count": 63,
   "metadata": {},
   "outputs": [
    {
     "data": {
      "text/plain": [
       "(170097, 12, 100)"
      ]
     },
     "execution_count": 63,
     "metadata": {},
     "output_type": "execute_result"
    }
   ],
   "source": [
    "X_test_pieces.shape"
   ]
  },
  {
   "cell_type": "code",
   "execution_count": 36,
   "metadata": {},
   "outputs": [
    {
     "data": {
      "text/plain": [
       "(170097, 1)"
      ]
     },
     "execution_count": 36,
     "metadata": {},
     "output_type": "execute_result"
    }
   ],
   "source": [
    "y_test_pieces.shape"
   ]
  },
  {
   "cell_type": "code",
   "execution_count": 45,
   "metadata": {},
   "outputs": [
    {
     "data": {
      "text/plain": [
       "array([0., 0., 0., 0., 0., 0., 0., 0., 0., 0., 0., 0., 0., 0., 0., 0., 0.,\n",
       "       0., 0., 0., 0., 0., 0., 0., 0., 0., 0., 0., 0., 0., 0., 0., 0., 0.,\n",
       "       0., 0., 0., 0., 0., 0., 0., 0., 0., 0., 0., 0., 0., 0., 0., 0., 0.,\n",
       "       0., 0., 0., 0., 0., 0., 0., 0., 0., 0., 0., 0., 0., 0., 0., 0., 0.,\n",
       "       0., 0., 0., 0., 0., 0., 0., 0., 0., 0., 0., 0., 0., 0., 0., 0., 0.,\n",
       "       0., 0., 0., 0., 0., 0., 0., 0., 0., 0., 0., 0., 0., 0., 0.])"
      ]
     },
     "execution_count": 45,
     "metadata": {},
     "output_type": "execute_result"
    }
   ],
   "source": [
    "np.zeros([12, 100])[0]"
   ]
  },
  {
   "cell_type": "code",
   "execution_count": 49,
   "metadata": {},
   "outputs": [
    {
     "data": {
      "text/plain": [
       "array([0, 1, 2, 3, 4], dtype=uint8)"
      ]
     },
     "execution_count": 49,
     "metadata": {},
     "output_type": "execute_result"
    }
   ],
   "source": [
    "np.unique(y_test_pieces)"
   ]
  },
  {
   "cell_type": "code",
   "execution_count": 13,
   "metadata": {},
   "outputs": [
    {
     "data": {
      "text/plain": [
       "63889"
      ]
     },
     "execution_count": 13,
     "metadata": {},
     "output_type": "execute_result"
    }
   ],
   "source": [
    "false_count = 0\n",
    "for index in range(len(y_test_pieces)):\n",
    "    if y_test_pieces[index].any() == np.zeros([12, 100]).any():\n",
    "        false_count += 1\n",
    "false_count"
   ]
  },
  {
   "cell_type": "code",
   "execution_count": 14,
   "metadata": {},
   "outputs": [],
   "source": [
    "X_test_pieces=np.reshape(X_test_pieces,(len(X_test_pieces),1200))"
   ]
  },
  {
   "cell_type": "code",
   "execution_count": 65,
   "metadata": {},
   "outputs": [
    {
     "data": {
      "text/plain": [
       "(170097, 1200)"
      ]
     },
     "execution_count": 65,
     "metadata": {},
     "output_type": "execute_result"
    }
   ],
   "source": [
    "X_test_pieces.shape"
   ]
  },
  {
   "cell_type": "code",
   "execution_count": 15,
   "metadata": {},
   "outputs": [],
   "source": [
    "X_test_pieces_600=[]\n",
    "\n",
    "for i in range(0, len(X_test_pieces)):\n",
    "    tmp=X_test_pieces[i]\n",
    "    tmp_resampled = signal.resample(tmp, 600)\n",
    "    X_test_pieces_600.append(tmp_resampled)\n",
    "X_test_pieces_600=np.array(X_test_pieces_600)"
   ]
  },
  {
   "cell_type": "code",
   "execution_count": 19,
   "metadata": {},
   "outputs": [
    {
     "data": {
      "text/plain": [
       "(170097, 600)"
      ]
     },
     "execution_count": 19,
     "metadata": {},
     "output_type": "execute_result"
    }
   ],
   "source": [
    "X_test_pieces_600.shape"
   ]
  },
  {
   "cell_type": "code",
   "execution_count": 16,
   "metadata": {},
   "outputs": [],
   "source": [
    "X_test_norm=[]\n",
    "\n",
    "    \n",
    "for j in range(0,len(X_test_pieces_600)):\n",
    "    tmp=X_test_pieces_600[j]\n",
    "    tmp2=tmp\n",
    "    tmp3 = [float('{:.6f}'.format(i)) for i in tmp2]\n",
    "    tmp4=np.array(tmp3)\n",
    "    tmp5=tmp4/np.linalg.norm(tmp4)\n",
    "    X_test_norm.append(tmp5.T)"
   ]
  },
  {
   "cell_type": "code",
   "execution_count": 17,
   "metadata": {},
   "outputs": [
    {
     "name": "stdout",
     "output_type": "stream",
     "text": [
      "norm-ed!\n"
     ]
    }
   ],
   "source": [
    "X_test_norm=np.array(X_test_norm)\n",
    "print(\"norm-ed!\")"
   ]
  },
  {
   "cell_type": "code",
   "execution_count": 18,
   "metadata": {},
   "outputs": [],
   "source": [
    "train_all=np.concatenate((y_test_pieces,y_report_pieces,X_test_norm),axis=1)\n",
    "\n",
    "# np.savetxt('data_600.csv',train_all, fmt='%.6f', delimiter=\",\")"
   ]
  },
  {
   "cell_type": "code",
   "execution_count": 19,
   "metadata": {
    "scrolled": true
   },
   "outputs": [
    {
     "data": {
      "text/html": [
       "<div>\n",
       "<style scoped>\n",
       "    .dataframe tbody tr th:only-of-type {\n",
       "        vertical-align: middle;\n",
       "    }\n",
       "\n",
       "    .dataframe tbody tr th {\n",
       "        vertical-align: top;\n",
       "    }\n",
       "\n",
       "    .dataframe thead th {\n",
       "        text-align: right;\n",
       "    }\n",
       "</style>\n",
       "<table border=\"1\" class=\"dataframe\">\n",
       "  <thead>\n",
       "    <tr style=\"text-align: right;\">\n",
       "      <th></th>\n",
       "      <th>0</th>\n",
       "      <th>1</th>\n",
       "      <th>2</th>\n",
       "      <th>3</th>\n",
       "      <th>4</th>\n",
       "      <th>5</th>\n",
       "      <th>6</th>\n",
       "      <th>7</th>\n",
       "      <th>8</th>\n",
       "      <th>9</th>\n",
       "      <th>...</th>\n",
       "      <th>592</th>\n",
       "      <th>593</th>\n",
       "      <th>594</th>\n",
       "      <th>595</th>\n",
       "      <th>596</th>\n",
       "      <th>597</th>\n",
       "      <th>598</th>\n",
       "      <th>599</th>\n",
       "      <th>600</th>\n",
       "      <th>601</th>\n",
       "    </tr>\n",
       "  </thead>\n",
       "  <tbody>\n",
       "    <tr>\n",
       "      <th>0</th>\n",
       "      <td>0</td>\n",
       "      <td>sinusbradykardie sonst normales ekg</td>\n",
       "      <td>-0.015594</td>\n",
       "      <td>-0.008677</td>\n",
       "      <td>-0.010193</td>\n",
       "      <td>-0.008157</td>\n",
       "      <td>-0.009297</td>\n",
       "      <td>-0.009295</td>\n",
       "      <td>-0.010226</td>\n",
       "      <td>-0.007686</td>\n",
       "      <td>...</td>\n",
       "      <td>-0.024029</td>\n",
       "      <td>-0.024676</td>\n",
       "      <td>-0.025722</td>\n",
       "      <td>-0.025821</td>\n",
       "      <td>-0.026652</td>\n",
       "      <td>-0.027922</td>\n",
       "      <td>-0.028798</td>\n",
       "      <td>-0.0299</td>\n",
       "      <td>-0.029236</td>\n",
       "      <td>-0.031036</td>\n",
       "    </tr>\n",
       "    <tr>\n",
       "      <th>1</th>\n",
       "      <td>0</td>\n",
       "      <td>sinusrhythmus normales ekg</td>\n",
       "      <td>-0.032629</td>\n",
       "      <td>-0.034772</td>\n",
       "      <td>-0.033286</td>\n",
       "      <td>-0.037921</td>\n",
       "      <td>-0.041388</td>\n",
       "      <td>-0.042681</td>\n",
       "      <td>-0.046535</td>\n",
       "      <td>-0.053703</td>\n",
       "      <td>...</td>\n",
       "      <td>-0.011798</td>\n",
       "      <td>-0.007505</td>\n",
       "      <td>-0.007396</td>\n",
       "      <td>-0.00827</td>\n",
       "      <td>-0.012079</td>\n",
       "      <td>-0.01581</td>\n",
       "      <td>-0.019725</td>\n",
       "      <td>-0.021014</td>\n",
       "      <td>-0.02207</td>\n",
       "      <td>-0.022972</td>\n",
       "    </tr>\n",
       "    <tr>\n",
       "      <th>2</th>\n",
       "      <td>0</td>\n",
       "      <td>sinusrhythmus normales ekg</td>\n",
       "      <td>-0.035144</td>\n",
       "      <td>-0.033342</td>\n",
       "      <td>-0.042117</td>\n",
       "      <td>-0.041946</td>\n",
       "      <td>-0.039102</td>\n",
       "      <td>-0.037911</td>\n",
       "      <td>-0.03987</td>\n",
       "      <td>-0.036804</td>\n",
       "      <td>...</td>\n",
       "      <td>-0.050231</td>\n",
       "      <td>-0.04876</td>\n",
       "      <td>-0.048505</td>\n",
       "      <td>-0.045222</td>\n",
       "      <td>-0.043496</td>\n",
       "      <td>-0.040763</td>\n",
       "      <td>-0.04053</td>\n",
       "      <td>-0.040473</td>\n",
       "      <td>-0.041805</td>\n",
       "      <td>-0.042707</td>\n",
       "    </tr>\n",
       "    <tr>\n",
       "      <th>3</th>\n",
       "      <td>0</td>\n",
       "      <td>sinusrhythmus normales ekg</td>\n",
       "      <td>-0.025497</td>\n",
       "      <td>-0.037556</td>\n",
       "      <td>-0.034812</td>\n",
       "      <td>-0.034122</td>\n",
       "      <td>-0.03055</td>\n",
       "      <td>-0.030554</td>\n",
       "      <td>-0.027667</td>\n",
       "      <td>-0.027289</td>\n",
       "      <td>...</td>\n",
       "      <td>0.032029</td>\n",
       "      <td>0.021629</td>\n",
       "      <td>0.006849</td>\n",
       "      <td>0.001163</td>\n",
       "      <td>-0.001073</td>\n",
       "      <td>-0.000422</td>\n",
       "      <td>-0.002786</td>\n",
       "      <td>-0.000978</td>\n",
       "      <td>-0.003434</td>\n",
       "      <td>0.000335</td>\n",
       "    </tr>\n",
       "    <tr>\n",
       "      <th>4</th>\n",
       "      <td>0</td>\n",
       "      <td>sinusrhythmus normales ekg</td>\n",
       "      <td>-0.016326</td>\n",
       "      <td>-0.014744</td>\n",
       "      <td>-0.018593</td>\n",
       "      <td>-0.018802</td>\n",
       "      <td>-0.01587</td>\n",
       "      <td>-0.015734</td>\n",
       "      <td>-0.017245</td>\n",
       "      <td>-0.016718</td>\n",
       "      <td>...</td>\n",
       "      <td>-0.014507</td>\n",
       "      <td>-0.016445</td>\n",
       "      <td>-0.016798</td>\n",
       "      <td>-0.017465</td>\n",
       "      <td>-0.017582</td>\n",
       "      <td>-0.017896</td>\n",
       "      <td>-0.017275</td>\n",
       "      <td>-0.018279</td>\n",
       "      <td>-0.019072</td>\n",
       "      <td>-0.020776</td>\n",
       "    </tr>\n",
       "    <tr>\n",
       "      <th>...</th>\n",
       "      <td>...</td>\n",
       "      <td>...</td>\n",
       "      <td>...</td>\n",
       "      <td>...</td>\n",
       "      <td>...</td>\n",
       "      <td>...</td>\n",
       "      <td>...</td>\n",
       "      <td>...</td>\n",
       "      <td>...</td>\n",
       "      <td>...</td>\n",
       "      <td>...</td>\n",
       "      <td>...</td>\n",
       "      <td>...</td>\n",
       "      <td>...</td>\n",
       "      <td>...</td>\n",
       "      <td>...</td>\n",
       "      <td>...</td>\n",
       "      <td>...</td>\n",
       "      <td>...</td>\n",
       "      <td>...</td>\n",
       "      <td>...</td>\n",
       "    </tr>\n",
       "    <tr>\n",
       "      <th>170081</th>\n",
       "      <td>0</td>\n",
       "      <td>supraventrikulÄre extrasystole(n) sinusrhythmu...</td>\n",
       "      <td>0.004663</td>\n",
       "      <td>-0.026157</td>\n",
       "      <td>-0.012642</td>\n",
       "      <td>-0.021593</td>\n",
       "      <td>0.041584</td>\n",
       "      <td>0.098006</td>\n",
       "      <td>0.08371</td>\n",
       "      <td>0.00608</td>\n",
       "      <td>...</td>\n",
       "      <td>0.011945</td>\n",
       "      <td>0.009991</td>\n",
       "      <td>0.002308</td>\n",
       "      <td>-0.007897</td>\n",
       "      <td>-0.019231</td>\n",
       "      <td>-0.021934</td>\n",
       "      <td>-0.028703</td>\n",
       "      <td>-0.004954</td>\n",
       "      <td>0.083051</td>\n",
       "      <td>0.087554</td>\n",
       "    </tr>\n",
       "    <tr>\n",
       "      <th>170082</th>\n",
       "      <td>0</td>\n",
       "      <td>supraventrikulÄre extrasystole(n) sinusrhythmu...</td>\n",
       "      <td>0.013785</td>\n",
       "      <td>-0.016634</td>\n",
       "      <td>-0.010602</td>\n",
       "      <td>0.01343</td>\n",
       "      <td>0.095463</td>\n",
       "      <td>0.117048</td>\n",
       "      <td>0.051543</td>\n",
       "      <td>-0.016926</td>\n",
       "      <td>...</td>\n",
       "      <td>-0.009342</td>\n",
       "      <td>0.004341</td>\n",
       "      <td>0.008867</td>\n",
       "      <td>0.003509</td>\n",
       "      <td>-0.013591</td>\n",
       "      <td>-0.0192</td>\n",
       "      <td>-0.022962</td>\n",
       "      <td>-0.02103</td>\n",
       "      <td>-0.004673</td>\n",
       "      <td>0.095656</td>\n",
       "    </tr>\n",
       "    <tr>\n",
       "      <th>170083</th>\n",
       "      <td>0</td>\n",
       "      <td>supraventrikulÄre extrasystole(n) sinusrhythmu...</td>\n",
       "      <td>-0.026209</td>\n",
       "      <td>-0.012936</td>\n",
       "      <td>-0.020346</td>\n",
       "      <td>0.011272</td>\n",
       "      <td>0.089377</td>\n",
       "      <td>0.110931</td>\n",
       "      <td>0.044668</td>\n",
       "      <td>-0.015617</td>\n",
       "      <td>...</td>\n",
       "      <td>-0.026963</td>\n",
       "      <td>-0.031235</td>\n",
       "      <td>-0.04327</td>\n",
       "      <td>-0.050484</td>\n",
       "      <td>-0.053697</td>\n",
       "      <td>-0.051163</td>\n",
       "      <td>-0.054655</td>\n",
       "      <td>0.019179</td>\n",
       "      <td>0.069906</td>\n",
       "      <td>0.015241</td>\n",
       "    </tr>\n",
       "    <tr>\n",
       "      <th>170084</th>\n",
       "      <td>0</td>\n",
       "      <td>supraventrikulÄre extrasystole(n) sinusrhythmu...</td>\n",
       "      <td>-0.005359</td>\n",
       "      <td>-0.004222</td>\n",
       "      <td>-0.007079</td>\n",
       "      <td>-0.008478</td>\n",
       "      <td>-0.014456</td>\n",
       "      <td>-0.01083</td>\n",
       "      <td>-0.01254</td>\n",
       "      <td>-0.009341</td>\n",
       "      <td>...</td>\n",
       "      <td>-0.0021</td>\n",
       "      <td>0.006199</td>\n",
       "      <td>0.004301</td>\n",
       "      <td>-0.000758</td>\n",
       "      <td>-0.008075</td>\n",
       "      <td>-0.010305</td>\n",
       "      <td>-0.013704</td>\n",
       "      <td>-0.012378</td>\n",
       "      <td>-0.012152</td>\n",
       "      <td>-0.007051</td>\n",
       "    </tr>\n",
       "    <tr>\n",
       "      <th>170085</th>\n",
       "      <td>0</td>\n",
       "      <td>sinusrhythmus p-sinistrocardiale lagetyp norma...</td>\n",
       "      <td>-0.025234</td>\n",
       "      <td>-0.029311</td>\n",
       "      <td>-0.026113</td>\n",
       "      <td>-0.02095</td>\n",
       "      <td>-0.019954</td>\n",
       "      <td>-0.01839</td>\n",
       "      <td>-0.021872</td>\n",
       "      <td>-0.025041</td>\n",
       "      <td>...</td>\n",
       "      <td>-0.013135</td>\n",
       "      <td>-0.01026</td>\n",
       "      <td>-0.011408</td>\n",
       "      <td>-0.012333</td>\n",
       "      <td>-0.015293</td>\n",
       "      <td>-0.015903</td>\n",
       "      <td>-0.021278</td>\n",
       "      <td>-0.021727</td>\n",
       "      <td>-0.022414</td>\n",
       "      <td>-0.018912</td>\n",
       "    </tr>\n",
       "  </tbody>\n",
       "</table>\n",
       "<p>170086 rows × 602 columns</p>\n",
       "</div>"
      ],
      "text/plain": [
       "       0                                                  1         2    \\\n",
       "0        0                sinusbradykardie sonst normales ekg -0.015594   \n",
       "1        0                         sinusrhythmus normales ekg -0.032629   \n",
       "2        0                         sinusrhythmus normales ekg -0.035144   \n",
       "3        0                         sinusrhythmus normales ekg -0.025497   \n",
       "4        0                         sinusrhythmus normales ekg -0.016326   \n",
       "...     ..                                                ...       ...   \n",
       "170081   0  supraventrikulÄre extrasystole(n) sinusrhythmu...  0.004663   \n",
       "170082   0  supraventrikulÄre extrasystole(n) sinusrhythmu...  0.013785   \n",
       "170083   0  supraventrikulÄre extrasystole(n) sinusrhythmu... -0.026209   \n",
       "170084   0  supraventrikulÄre extrasystole(n) sinusrhythmu... -0.005359   \n",
       "170085   0  sinusrhythmus p-sinistrocardiale lagetyp norma... -0.025234   \n",
       "\n",
       "             3         4         5         6         7         8         9    \\\n",
       "0      -0.008677 -0.010193 -0.008157 -0.009297 -0.009295 -0.010226 -0.007686   \n",
       "1      -0.034772 -0.033286 -0.037921 -0.041388 -0.042681 -0.046535 -0.053703   \n",
       "2      -0.033342 -0.042117 -0.041946 -0.039102 -0.037911  -0.03987 -0.036804   \n",
       "3      -0.037556 -0.034812 -0.034122  -0.03055 -0.030554 -0.027667 -0.027289   \n",
       "4      -0.014744 -0.018593 -0.018802  -0.01587 -0.015734 -0.017245 -0.016718   \n",
       "...          ...       ...       ...       ...       ...       ...       ...   \n",
       "170081 -0.026157 -0.012642 -0.021593  0.041584  0.098006   0.08371   0.00608   \n",
       "170082 -0.016634 -0.010602   0.01343  0.095463  0.117048  0.051543 -0.016926   \n",
       "170083 -0.012936 -0.020346  0.011272  0.089377  0.110931  0.044668 -0.015617   \n",
       "170084 -0.004222 -0.007079 -0.008478 -0.014456  -0.01083  -0.01254 -0.009341   \n",
       "170085 -0.029311 -0.026113  -0.02095 -0.019954  -0.01839 -0.021872 -0.025041   \n",
       "\n",
       "        ...       592       593       594       595       596       597  \\\n",
       "0       ... -0.024029 -0.024676 -0.025722 -0.025821 -0.026652 -0.027922   \n",
       "1       ... -0.011798 -0.007505 -0.007396  -0.00827 -0.012079  -0.01581   \n",
       "2       ... -0.050231  -0.04876 -0.048505 -0.045222 -0.043496 -0.040763   \n",
       "3       ...  0.032029  0.021629  0.006849  0.001163 -0.001073 -0.000422   \n",
       "4       ... -0.014507 -0.016445 -0.016798 -0.017465 -0.017582 -0.017896   \n",
       "...     ...       ...       ...       ...       ...       ...       ...   \n",
       "170081  ...  0.011945  0.009991  0.002308 -0.007897 -0.019231 -0.021934   \n",
       "170082  ... -0.009342  0.004341  0.008867  0.003509 -0.013591   -0.0192   \n",
       "170083  ... -0.026963 -0.031235  -0.04327 -0.050484 -0.053697 -0.051163   \n",
       "170084  ...   -0.0021  0.006199  0.004301 -0.000758 -0.008075 -0.010305   \n",
       "170085  ... -0.013135  -0.01026 -0.011408 -0.012333 -0.015293 -0.015903   \n",
       "\n",
       "             598       599       600       601  \n",
       "0      -0.028798   -0.0299 -0.029236 -0.031036  \n",
       "1      -0.019725 -0.021014  -0.02207 -0.022972  \n",
       "2       -0.04053 -0.040473 -0.041805 -0.042707  \n",
       "3      -0.002786 -0.000978 -0.003434  0.000335  \n",
       "4      -0.017275 -0.018279 -0.019072 -0.020776  \n",
       "...          ...       ...       ...       ...  \n",
       "170081 -0.028703 -0.004954  0.083051  0.087554  \n",
       "170082 -0.022962  -0.02103 -0.004673  0.095656  \n",
       "170083 -0.054655  0.019179  0.069906  0.015241  \n",
       "170084 -0.013704 -0.012378 -0.012152 -0.007051  \n",
       "170085 -0.021278 -0.021727 -0.022414 -0.018912  \n",
       "\n",
       "[170086 rows x 602 columns]"
      ]
     },
     "execution_count": 19,
     "metadata": {},
     "output_type": "execute_result"
    }
   ],
   "source": [
    "df = pd.DataFrame(train_all, index = None)\n",
    "df"
   ]
  },
  {
   "cell_type": "code",
   "execution_count": 20,
   "metadata": {},
   "outputs": [],
   "source": [
    "df.to_csv('data_600.csv', index = False)"
   ]
  },
  {
   "cell_type": "code",
   "execution_count": 23,
   "metadata": {},
   "outputs": [
    {
     "data": {
      "text/plain": [
       "0"
      ]
     },
     "execution_count": 23,
     "metadata": {},
     "output_type": "execute_result"
    }
   ],
   "source": [
    "len(y_report_pieces)"
   ]
  },
  {
   "cell_type": "code",
   "execution_count": null,
   "metadata": {},
   "outputs": [],
   "source": [
    "#extract frequency domain features"
   ]
  },
  {
   "cell_type": "code",
   "execution_count": 21,
   "metadata": {},
   "outputs": [],
   "source": [
    "X_test_raw=np.reshape(X_test_pieces,(len(X_test_pieces),12,100))"
   ]
  },
  {
   "cell_type": "code",
   "execution_count": 22,
   "metadata": {},
   "outputs": [
    {
     "data": {
      "text/plain": [
       "170086"
      ]
     },
     "execution_count": 22,
     "metadata": {},
     "output_type": "execute_result"
    }
   ],
   "source": [
    "len(X_test_raw)"
   ]
  },
  {
   "cell_type": "code",
   "execution_count": 23,
   "metadata": {},
   "outputs": [],
   "source": [
    "from time_frequency_domain_features import *\n",
    "\n",
    "\n",
    "\n",
    "def func_timefeatures(sequence_data):\n",
    "    time_features=[]\n",
    "    \n",
    "    result_mean_fea=mean_fea(sequence_data)\n",
    "    time_features.append(result_mean_fea)\n",
    "    \n",
    "    result_rms_fea=rms_fea(sequence_data)\n",
    "    time_features.append(result_rms_fea)\n",
    "    \n",
    "    result_sr_fea=sr_fea(sequence_data)\n",
    "    time_features.append(result_sr_fea)\n",
    "    \n",
    "    result_am_fea=am_fea(sequence_data)\n",
    "    time_features.append(result_am_fea)\n",
    "    \n",
    "    result_skew_fea=skew_fea(sequence_data)\n",
    "    time_features.append(result_skew_fea)\n",
    "    \n",
    "    result_kurt_fea=kurt_fea(sequence_data)\n",
    "    time_features.append(result_kurt_fea)\n",
    "    \n",
    "    result_max_fea=max_fea(sequence_data)\n",
    "    time_features.append(result_max_fea)\n",
    "    \n",
    "    result_min_fea=min_fea(sequence_data)\n",
    "    time_features.append(result_min_fea)\n",
    "    \n",
    "    result_pp_fea=pp_fea(sequence_data)\n",
    "    time_features.append(result_pp_fea)\n",
    "    \n",
    "    result_var_fea=var_fea(sequence_data)\n",
    "    time_features.append(result_var_fea)\n",
    "    \n",
    "    result_waveform_index_fea=waveform_index(sequence_data)\n",
    "    time_features.append(result_waveform_index_fea)\n",
    "    \n",
    "    result_peak_index_fea=peak_index(sequence_data)\n",
    "    time_features.append(result_peak_index_fea)\n",
    "    \n",
    "    result_impluse_factor_fea=impluse_factor(sequence_data)\n",
    "    time_features.append(result_impluse_factor_fea)\n",
    "    \n",
    "    #result_tolerance_index_fea=tolerance_index(sequence_data)\n",
    "    #features.append(result_tolerance_index_fea)\n",
    "    \n",
    "    #result_skew_index_fea=skew_index(sequence_data)\n",
    "    #features.append(result_skew_index_fea)\n",
    "                    \n",
    "    #result_kurt_index_fea=kurt_index(sequence_data)\n",
    "    #features.append(result_kurt_index_fea)\n",
    "\n",
    "    time_features=np.array(time_features)\n",
    "    return time_features"
   ]
  },
  {
   "cell_type": "code",
   "execution_count": 24,
   "metadata": {},
   "outputs": [],
   "source": [
    "from time_frequency_domain_features import fft_mean,fft_var,fft_std,fft_entropy,fft_energy,fft_skew,fft_kurt,fft_shape_mean,fft_shape_std,fft_shape_skew,fft_shape_kurt\n",
    "\n",
    "\n",
    "def func_frequencyfeatures(sequence_data):\n",
    "    fre_features=[]\n",
    "    \n",
    "    result_fft_mean=fft_mean(sequence_data)\n",
    "    fre_features.append(result_fft_mean)\n",
    "    \n",
    "    result_fft_var=fft_var(sequence_data)\n",
    "    fre_features.append(result_fft_var)\n",
    "    \n",
    "    result_fft_std=fft_std(sequence_data)\n",
    "    fre_features.append(result_fft_std)\n",
    "    \n",
    "    result_fft_entropy=fft_entropy(sequence_data)\n",
    "    fre_features.append(result_fft_entropy)\n",
    "    \n",
    "    result_fft_energy=fft_energy(sequence_data)\n",
    "    fre_features.append(result_fft_energy)\n",
    "    \n",
    "    result_fft_skew=fft_skew(sequence_data)\n",
    "    fre_features.append(result_fft_skew)\n",
    "    \n",
    "    result_fft_kurt=fft_kurt(sequence_data)\n",
    "    fre_features.append(result_fft_kurt)\n",
    "    \n",
    "    result_fft_shape_mean=fft_shape_mean(sequence_data)\n",
    "    fre_features.append(result_fft_shape_mean)\n",
    "    \n",
    "    result_fft_shape_std=fft_shape_std(sequence_data)\n",
    "    fre_features.append(result_fft_shape_std)\n",
    "    \n",
    "    #result_fft_shape_skew=fft_shape_skew(sequence_data)\n",
    "    #fre_features.append(result_fft_shape_skew)\n",
    "    \n",
    "    #result_fft_shape_kurt=fft_shape_kurt(sequence_data)\n",
    "    #fre_features.append(result_fft_shape_kurt)\n",
    "\n",
    "    fre_features=np.array(fre_features)\n",
    "    return fre_features"
   ]
  },
  {
   "cell_type": "code",
   "execution_count": null,
   "metadata": {},
   "outputs": [],
   "source": []
  },
  {
   "cell_type": "code",
   "execution_count": 25,
   "metadata": {},
   "outputs": [
    {
     "data": {
      "text/plain": [
       "12"
      ]
     },
     "execution_count": 25,
     "metadata": {},
     "output_type": "execute_result"
    }
   ],
   "source": [
    "len(X_test_raw[0])"
   ]
  },
  {
   "cell_type": "code",
   "execution_count": null,
   "metadata": {
    "scrolled": true
   },
   "outputs": [
    {
     "name": "stderr",
     "output_type": "stream",
     "text": [
      " 28%|█████████▉                          | 46954/170086 [11:34<42:23, 48.41it/s]"
     ]
    }
   ],
   "source": [
    "X_test_time_features=[]\n",
    "X_test_time_features=np.array(X_test_time_features)\n",
    "X_test_fre_features=[]\n",
    "X_test_fre_features=np.array(X_test_fre_features)\n",
    "\n",
    "\n",
    "for i in tqdm(range(0, len(X_test_raw))):\n",
    "    \n",
    "    tmp_raw=X_test_raw[i]\n",
    "    time_features_tmp=[]\n",
    "    fre_features_tmp=[]\n",
    "    for j in range(0,12):\n",
    "        tmp_lead=tmp_raw[j]\n",
    "        result_time_features=func_timefeatures(tmp_lead)\n",
    "        result_fre_features=func_frequencyfeatures(tmp_lead)\n",
    "        time_features_tmp.append(result_time_features)\n",
    "        fre_features_tmp.append(result_fre_features)\n",
    "    time_features_tmp=np.array(time_features_tmp)\n",
    "    fre_features_tmp=np.array(fre_features_tmp)\n",
    "    X_test_time_features=np.append(X_test_time_features,time_features_tmp)\n",
    "    X_test_fre_features=np.append(X_test_fre_features,fre_features_tmp)"
   ]
  },
  {
   "cell_type": "code",
   "execution_count": 86,
   "metadata": {},
   "outputs": [
    {
     "data": {
      "text/plain": [
       "25017096"
      ]
     },
     "execution_count": 86,
     "metadata": {},
     "output_type": "execute_result"
    }
   ],
   "source": [
    "len(X_test_time_features)"
   ]
  },
  {
   "cell_type": "code",
   "execution_count": null,
   "metadata": {},
   "outputs": [],
   "source": [
    "X_test_time_features=np.array(X_test_time_features)\n",
    "X_test_fre_features=np.array(X_test_fre_features)\n",
    "X_test_time_features=np.reshape(X_test_time_features,(len(X_test_raw),156))\n",
    "X_test_fre_features=np.reshape(X_test_fre_features,(len(X_test_raw),108))"
   ]
  },
  {
   "cell_type": "code",
   "execution_count": null,
   "metadata": {},
   "outputs": [],
   "source": [
    "X_test_time_features.shape"
   ]
  },
  {
   "cell_type": "code",
   "execution_count": null,
   "metadata": {},
   "outputs": [],
   "source": [
    "X_test_fre_features.shape"
   ]
  },
  {
   "cell_type": "code",
   "execution_count": null,
   "metadata": {},
   "outputs": [],
   "source": []
  },
  {
   "cell_type": "code",
   "execution_count": null,
   "metadata": {},
   "outputs": [],
   "source": []
  },
  {
   "cell_type": "code",
   "execution_count": 63,
   "metadata": {},
   "outputs": [],
   "source": [
    "test_all=np.concatenate((y_test_pieces,X_test_norm,X_test_time_features,X_test_fre_features),axis=1)\n",
    "\n",
    "np.savetxt('test.csv',test_all, fmt='%.6f', delimiter=\",\")"
   ]
  },
  {
   "cell_type": "code",
   "execution_count": null,
   "metadata": {},
   "outputs": [],
   "source": []
  },
  {
   "cell_type": "code",
   "execution_count": null,
   "metadata": {},
   "outputs": [],
   "source": []
  }
 ],
 "metadata": {
  "kernelspec": {
   "display_name": "env",
   "language": "python",
   "name": "env"
  },
  "language_info": {
   "codemirror_mode": {
    "name": "ipython",
    "version": 3
   },
   "file_extension": ".py",
   "mimetype": "text/x-python",
   "name": "python",
   "nbconvert_exporter": "python",
   "pygments_lexer": "ipython3",
   "version": "3.8.5"
  },
  "vscode": {
   "interpreter": {
    "hash": "42cd7cbde13b62ea67061c57f7275406eba7bb159b0bdd50ec4d41ea85f68cd5"
   }
  }
 },
 "nbformat": 4,
 "nbformat_minor": 5
}
